{
 "cells": [
  {
   "cell_type": "markdown",
   "metadata": {
    "collapsed": true
   },
   "source": [
    "Python developers use and write command-line interfaces.\n",
    "<br>On projects, for instance, we have to run some scripts from command-line to train models or compute their related performances.\n",
    "<br>\n",
    "<br>\n",
    "<br>To improve our productivity and make scripts as handy and straightforward as possible, let's practice the following lab which will:\n",
    "- show you how to raise errors or exceptions\n",
    "- serialize results locally\n",
    "- discover decorators\n",
    "- write scripts to the iPython notebook to Python files saved locally\n",
    "<br>\n",
    "<br>"
   ]
  },
  {
   "cell_type": "markdown",
   "metadata": {},
   "source": [
    "In a second step, we will run our Python files with command lines on a bash shell emulated from our notebook."
   ]
  },
  {
   "cell_type": "markdown",
   "metadata": {},
   "source": [
    "## Instructions\n",
    "\n",
    "Let's write a simple sum function taking into account as arguments 2 numbers `a` & `b`.\n",
    "<br>\n",
    "<br>More specifically, if the sum function remains the same, write down 3 different versions to run such function from the bash with a command line specifying the required arguments.\n",
    "<br>\n",
    "<br>To do so:\n",
    "- use `sys.argv`\n",
    "- use `argparse`\n",
    "- use another library named `click`"
   ]
  },
  {
   "cell_type": "markdown",
   "metadata": {},
   "source": [
    "First additional requirement is to write down such function into a Python script directly from the notebook.\n",
    "<br>Run `%lsmagic` in a cell that will list you some magic commands to use."
   ]
  },
  {
   "cell_type": "markdown",
   "metadata": {},
   "source": [
    "Second additional requirement is to serialize locally in a text file the result of the `sum` function."
   ]
  },
  {
   "cell_type": "code",
   "execution_count": 1,
   "metadata": {},
   "outputs": [
    {
     "data": {
      "application/json": {
       "cell": {
        "!": "OSMagics",
        "HTML": "Other",
        "SVG": "Other",
        "bash": "Other",
        "capture": "ExecutionMagics",
        "debug": "ExecutionMagics",
        "file": "Other",
        "html": "DisplayMagics",
        "javascript": "DisplayMagics",
        "js": "DisplayMagics",
        "latex": "DisplayMagics",
        "markdown": "DisplayMagics",
        "perl": "Other",
        "prun": "ExecutionMagics",
        "pypy": "Other",
        "python": "Other",
        "python2": "Other",
        "python3": "Other",
        "ruby": "Other",
        "script": "ScriptMagics",
        "sh": "Other",
        "svg": "DisplayMagics",
        "sx": "OSMagics",
        "system": "OSMagics",
        "time": "ExecutionMagics",
        "timeit": "ExecutionMagics",
        "writefile": "OSMagics"
       },
       "line": {
        "alias": "OSMagics",
        "alias_magic": "BasicMagics",
        "autoawait": "AsyncMagics",
        "autocall": "AutoMagics",
        "automagic": "AutoMagics",
        "autosave": "KernelMagics",
        "bookmark": "OSMagics",
        "cat": "Other",
        "cd": "OSMagics",
        "clear": "KernelMagics",
        "colors": "BasicMagics",
        "config": "ConfigMagics",
        "connect_info": "KernelMagics",
        "cp": "Other",
        "debug": "ExecutionMagics",
        "dhist": "OSMagics",
        "dirs": "OSMagics",
        "doctest_mode": "BasicMagics",
        "ed": "Other",
        "edit": "KernelMagics",
        "env": "OSMagics",
        "gui": "BasicMagics",
        "hist": "Other",
        "history": "HistoryMagics",
        "killbgscripts": "ScriptMagics",
        "ldir": "Other",
        "less": "KernelMagics",
        "lf": "Other",
        "lk": "Other",
        "ll": "Other",
        "load": "CodeMagics",
        "load_ext": "ExtensionMagics",
        "loadpy": "CodeMagics",
        "logoff": "LoggingMagics",
        "logon": "LoggingMagics",
        "logstart": "LoggingMagics",
        "logstate": "LoggingMagics",
        "logstop": "LoggingMagics",
        "ls": "Other",
        "lsmagic": "BasicMagics",
        "lx": "Other",
        "macro": "ExecutionMagics",
        "magic": "BasicMagics",
        "man": "KernelMagics",
        "matplotlib": "PylabMagics",
        "mkdir": "Other",
        "more": "KernelMagics",
        "mv": "Other",
        "notebook": "BasicMagics",
        "page": "BasicMagics",
        "pastebin": "CodeMagics",
        "pdb": "ExecutionMagics",
        "pdef": "NamespaceMagics",
        "pdoc": "NamespaceMagics",
        "pfile": "NamespaceMagics",
        "pinfo": "NamespaceMagics",
        "pinfo2": "NamespaceMagics",
        "pip": "BasicMagics",
        "popd": "OSMagics",
        "pprint": "BasicMagics",
        "precision": "BasicMagics",
        "prun": "ExecutionMagics",
        "psearch": "NamespaceMagics",
        "psource": "NamespaceMagics",
        "pushd": "OSMagics",
        "pwd": "OSMagics",
        "pycat": "OSMagics",
        "pylab": "PylabMagics",
        "qtconsole": "KernelMagics",
        "quickref": "BasicMagics",
        "recall": "HistoryMagics",
        "rehashx": "OSMagics",
        "reload_ext": "ExtensionMagics",
        "rep": "Other",
        "rerun": "HistoryMagics",
        "reset": "NamespaceMagics",
        "reset_selective": "NamespaceMagics",
        "rm": "Other",
        "rmdir": "Other",
        "run": "ExecutionMagics",
        "save": "CodeMagics",
        "sc": "OSMagics",
        "set_env": "OSMagics",
        "store": "StoreMagics",
        "sx": "OSMagics",
        "system": "OSMagics",
        "tb": "ExecutionMagics",
        "time": "ExecutionMagics",
        "timeit": "ExecutionMagics",
        "unalias": "OSMagics",
        "unload_ext": "ExtensionMagics",
        "who": "NamespaceMagics",
        "who_ls": "NamespaceMagics",
        "whos": "NamespaceMagics",
        "xdel": "NamespaceMagics",
        "xmode": "BasicMagics"
       }
      },
      "text/plain": [
       "Available line magics:\n",
       "%alias  %alias_magic  %autoawait  %autocall  %automagic  %autosave  %bookmark  %cat  %cd  %clear  %colors  %config  %connect_info  %cp  %debug  %dhist  %dirs  %doctest_mode  %ed  %edit  %env  %gui  %hist  %history  %killbgscripts  %ldir  %less  %lf  %lk  %ll  %load  %load_ext  %loadpy  %logoff  %logon  %logstart  %logstate  %logstop  %ls  %lsmagic  %lx  %macro  %magic  %man  %matplotlib  %mkdir  %more  %mv  %notebook  %page  %pastebin  %pdb  %pdef  %pdoc  %pfile  %pinfo  %pinfo2  %popd  %pprint  %precision  %prun  %psearch  %psource  %pushd  %pwd  %pycat  %pylab  %qtconsole  %quickref  %recall  %rehashx  %reload_ext  %rep  %rerun  %reset  %reset_selective  %rm  %rmdir  %run  %save  %sc  %set_env  %store  %sx  %system  %tb  %time  %timeit  %unalias  %unload_ext  %who  %who_ls  %whos  %xdel  %xmode\n",
       "\n",
       "Available cell magics:\n",
       "%%!  %%HTML  %%SVG  %%bash  %%capture  %%debug  %%file  %%html  %%javascript  %%js  %%latex  %%markdown  %%perl  %%prun  %%pypy  %%python  %%python2  %%python3  %%ruby  %%script  %%sh  %%svg  %%sx  %%system  %%time  %%timeit  %%writefile\n",
       "\n",
       "Automagic is ON, % prefix IS NOT needed for line magics."
      ]
     },
     "execution_count": 1,
     "metadata": {},
     "output_type": "execute_result"
    }
   ],
   "source": [
    "%lsmagic"
   ]
  },
  {
   "cell_type": "code",
   "execution_count": 2,
   "metadata": {},
   "outputs": [
    {
     "name": "stdout",
     "output_type": "stream",
     "text": [
      "Writing version0.py\n"
     ]
    }
   ],
   "source": [
    "%%writefile version0.py\n",
    "\n",
    "import sys\n",
    "\n",
    "\n",
    "\n",
    "def sum(a, b):\n",
    "    return a+b\n",
    "\n",
    "def read_arguments_run_sum():\n",
    "    arguments = sys.argv[1:]\n",
    "    assert len(arguments)==4, 'You have to enter --a <number> --b <number>'\n",
    "    if arguments[0]=='--a':\n",
    "        try:\n",
    "            a = float(arguments[1])\n",
    "        except:\n",
    "            raise ValueError('You should type as --a a number')\n",
    "    else:\n",
    "        raise NameError('You should type --a as first argument')\n",
    "    if arguments[2]=='--b':\n",
    "        try:\n",
    "            b = float(arguments[3])\n",
    "        except:\n",
    "            raise ValueError('You should type as --b a number')\n",
    "    else:\n",
    "        raise NameError('You should type --a as first argument')\n",
    "    c = sum(a, b)\n",
    "    print(c)\n",
    "\n",
    "    with open('result.txt', 'w') as f:\n",
    "        f.write('{}+{}={}'.format(a,b,c))\n",
    "\n",
    "\n",
    "\n",
    "if __name__ == '__main__':\n",
    "    read_arguments_run_sum()\n"
   ]
  },
  {
   "cell_type": "code",
   "execution_count": 3,
   "metadata": {},
   "outputs": [
    {
     "name": "stdout",
     "output_type": "stream",
     "text": [
      "Writing version1.py\n"
     ]
    }
   ],
   "source": [
    "%%writefile version1.py\n",
    "\n",
    "import argparse\n",
    "\n",
    "\n",
    "\n",
    "def sum(a, b):\n",
    "    return a+b\n",
    "\n",
    "def read_arguments_run_sum():\n",
    "    parser = argparse.ArgumentParser(description='Numbers to sum')\n",
    "    parser.add_argument('--a', type=float, help='Number a')\n",
    "    parser.add_argument('--b', type=float, help='number b')\n",
    "    args = parser.parse_args()\n",
    "\n",
    "    a, b = args.a, args.b\n",
    "    c = sum(a, b)\n",
    "    print(c)\n",
    "\n",
    "    with open('result.txt', 'w') as f:\n",
    "        f.write('{}+{}={}'.format(a,b,c))\n",
    "\n",
    "\n",
    "\n",
    "if __name__ == '__main__':\n",
    "    read_arguments_run_sum()\n"
   ]
  },
  {
   "cell_type": "code",
   "execution_count": 4,
   "metadata": {},
   "outputs": [
    {
     "name": "stdout",
     "output_type": "stream",
     "text": [
      "Writing version2.py\n"
     ]
    }
   ],
   "source": [
    "%%writefile version2.py\n",
    "\n",
    "import click\n",
    "\n",
    "\n",
    "\n",
    "@click.command()\n",
    "@click.option('--a', default=0, help='number')\n",
    "@click.option('--b', default=0, help='number')\n",
    "def sum(a, b):\n",
    "    c = a+b\n",
    "    click.echo(c)\n",
    "\n",
    "    with open('result.txt', 'w') as f:\n",
    "        f.write('{}+{}={}'.format(a, b, c))\n",
    "\n",
    "\n",
    "\n",
    "if __name__ == '__main__':\n",
    "    sum()\n"
   ]
  },
  {
   "cell_type": "markdown",
   "metadata": {},
   "source": [
    "## Instructions\n",
    "\n",
    "Find three different methods to run any Python file created above and specify the arguments necessary."
   ]
  },
  {
   "cell_type": "code",
   "execution_count": 5,
   "metadata": {},
   "outputs": [
    {
     "name": "stdout",
     "output_type": "stream",
     "text": [
      "3.0\n"
     ]
    }
   ],
   "source": [
    "%run version0.py --a 1 --b 2"
   ]
  },
  {
   "cell_type": "code",
   "execution_count": 6,
   "metadata": {},
   "outputs": [
    {
     "name": "stdout",
     "output_type": "stream",
     "text": [
      "6.0\n"
     ]
    }
   ],
   "source": [
    "%%bash\n",
    "\n",
    "python version1.py --a 2 --b 4"
   ]
  },
  {
   "cell_type": "code",
   "execution_count": 7,
   "metadata": {},
   "outputs": [
    {
     "name": "stdout",
     "output_type": "stream",
     "text": [
      "9\r\n"
     ]
    }
   ],
   "source": [
    "!python version2.py --a 3 --b 6"
   ]
  },
  {
   "cell_type": "code",
   "execution_count": null,
   "metadata": {},
   "outputs": [],
   "source": []
  }
 ],
 "metadata": {
  "kernelspec": {
   "display_name": "Python 3",
   "language": "python",
   "name": "python3"
  },
  "language_info": {
   "codemirror_mode": {
    "name": "ipython",
    "version": 3
   },
   "file_extension": ".py",
   "mimetype": "text/x-python",
   "name": "python",
   "nbconvert_exporter": "python",
   "pygments_lexer": "ipython3",
   "version": "3.7.1"
  }
 },
 "nbformat": 4,
 "nbformat_minor": 1
}
